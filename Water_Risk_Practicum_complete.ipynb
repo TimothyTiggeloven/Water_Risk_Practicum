{
 "cells": [
  {
   "cell_type": "markdown",
   "metadata": {},
   "source": [
    "###############################################################################\n",
    "###############################################################################\n",
    "#### Water storage model                                                   ####\n",
    "#### Timothy Tiggeloven                                                    ####\n",
    "#### Water_Risk_prac.py                                                    ####\n",
    "#### Python 3.6.0                                                          ####\n",
    "####                                                                       ####\n",
    "#### Analyses different Water harvesting systems                           ####\n",
    "###############################################################################\n",
    "###############################################################################\n",
    "\n",
    "\n",
    "\n",
    "\n",
    "In this practicum Python is used to run the water storage model. Both Python 2.7 and 3+ can be used to run the script if it includes the “Pandas” package to manipulate data frames. If Pandas is not included Python will return an “Import Error”. Make sure the Pandas package is properly installed. By default it is installed with Anaconda and you can check it in environments in the Anaconda Navigator.\n",
    "During this practicum we will focus on basic time series analysis and list operations in Python. While programming, you will come across errors in your script. Try first to read the errors and understand what went wrong. A lot of the times it’s just a typo. When you are in doubt about the error, it might help to google the error message and maybe add the function you used to narrow the searches down. A very helpful site that will pop up in google is stackoverflow in which similar problems are solved by the stackoverflow community.\n",
    "For this exercise, imagine you live in Ethiopia or other assigned country in Africa and have a household to run. You need 85.86 liters of water per week per person for your household. You want to implement water harvesting technique and want to know the effect of climate change on your investment. You want to know if your investment is feasible. In order to calculate this you have a water storage model and meteorological timeseries at your disposal. The water storage model is a simple model in which water can be harvested and stored during a period of time. The model runs on a daily time step basis in which water enters the system through direct precipitation or runoff and leaves the system through usage of water and evaporation. Two types of water harvesting structures (WHS) will be used in this practical; cistern and open pond. Dimensions and usage can be altered in the script. For cistern storage evaporation is assumed to be zero, however it is more expensive to build (Lasage & Verburg, 2015). The model takes input of comma-separated values (csv) files in which data of the years, months, days, precipitation and temperature of the specified region is found. The following paragraphs are a guide to the script. First have a look at the script and start with the assignments after."
   ]
  },
  {
   "cell_type": "code",
   "execution_count": 32,
   "metadata": {},
   "outputs": [],
   "source": [
    "# read modules\n",
    "import math\n",
    "import matplotlib.pyplot as plt\n",
    "import numpy as np\n",
    "import os\n",
    "import pandas as pd\n",
    "import sys\n",
    "%matplotlib inline"
   ]
  },
  {
   "cell_type": "markdown",
   "metadata": {},
   "source": [
    "\n",
    "Part I: Load input and declare variables\n",
    "========================================\n",
    "\n",
    "In this step we are going read some input variables with package called Pandas /n\n",
    "Further we assign values to declare the charaxcteristics of th WHS\n",
    "And we specify the region of interest\n",
    "\n",
    "<br>\n",
    "\n",
    "Make sure the input files and the python script are in the same folder. Reading csv files is done with the pandas read_csv function. Be sure to specify the right csv file as input file and assign a suitable name for the output file when you make adjustments to the variables.\n",
    "The global variables assign the water usage, runoff coefficient, threshold and latitude in degrees of selected region (be sure to update the latitude when switching input files). Next, the specific variables for the WHS are assigned. Experiment with these values to get the maximum efficiency."
   ]
  },
  {
   "cell_type": "markdown",
   "metadata": {},
   "source": [
    "Before running the script, select the correct ‘historical’ input file, that is not with ‘rcp’ in the name (you will be assigned a geographical location to analyze in this practical)."
   ]
  },
  {
   "cell_type": "code",
   "execution_count": 3,
   "metadata": {},
   "outputs": [],
   "source": [
    "# Assign input and output file.\n",
    "input_file = \"input_rcp4p5_2036_malawi_mulanje_region.csv\"\n",
    "output_file = \"output_###.csv\""
   ]
  },
  {
   "cell_type": "code",
   "execution_count": 5,
   "metadata": {},
   "outputs": [],
   "source": [
    "# read input, store data from dataframe to list\n",
    "try:\n",
    "    df = pd.read_csv(input_file)\n",
    "except FileNotFoundError as e:\n",
    "    print(\"\\nFileNotFoundError: %s\" % e)\n",
    "    print(\"\\nCheck input file name\\n\")\n",
    "    sys.exit(1)\n",
    "\n",
    "data = df[['Year', 'Month', 'Day', 'Precipitation', 'Temperature']].copy()\n",
    "\n",
    "data['Time'] = pd.to_datetime(data[['Year', 'Month', 'Day']])\n",
    "Time = data['Time'].values.flatten()\n",
    "data['Day of year'] = data['Time'].dt.dayofyear\n",
    "data = data.set_index('Time')"
   ]
  },
  {
   "cell_type": "markdown",
   "metadata": {},
   "source": [
    "Define the size of the reservoirs for open pond and cistern."
   ]
  },
  {
   "cell_type": "code",
   "execution_count": 6,
   "metadata": {},
   "outputs": [],
   "source": [
    "# global variables\n",
    "demand = 85.86                 # demand of water per week per person [L]\n",
    "HH = 5.8                       # mean persons per household in Ethiopia\n",
    "num = 10                       # number of households that use open pond\n",
    "ROC = 0.58                     # runoff coefficient [-]\n",
    "threshold = 0.01               # minimum rainfall before runoff occurs [m3]\n",
    "lat = -1.1315313               # latitude of location [•]"
   ]
  },
  {
   "cell_type": "code",
   "execution_count": 7,
   "metadata": {},
   "outputs": [],
   "source": [
    "# cistern variables\n",
    "cap_cis = 50                   # capacity of cistern [m3]\n",
    "catchment_cis = 300            # catchment size of cistern [m2]\n",
    "depth_cis = 2                  # depth of cistern [m]\n",
    "inlet_cis = cap_cis/depth_cis  # inlet of cistern [m2]\n",
    "storage_cis = 0                # set initial storage of cistern [m3]"
   ]
  },
  {
   "cell_type": "code",
   "execution_count": 8,
   "metadata": {},
   "outputs": [],
   "source": [
    "# open pond variables\n",
    "cap_op = 50                    # capacity of open pond [m3]\n",
    "catchment_op = 300             # catchment size of open pond [m2]\n",
    "depth_op = 2                   # depth of open pond [m]\n",
    "inlet_op = cap_op/depth_op     # inlet of open pond [m2]\n",
    "storage_op = 0                 # set initial storage of open pond [m3]"
   ]
  },
  {
   "cell_type": "markdown",
   "metadata": {},
   "source": [
    "Part II: Functions\n",
    "==================\n",
    "\n",
    "The model makes use of two functions, namely the storage calculation and evaporation function. Thornthwaite evaporation is calculated with the evap_calc function (line 81) and takes temperature, number of the day of the year, number of the day of the month, month number and year as input. Because the Thornthwaite evaporation is dependent on the average length of the day and a heat function based on mean monthly temperatures extra sets of codes are used. The Thornthwaite evaporation is calculated with the following formula:\n",
    "<br>\n",
    "$$PE=16* L (10Ta)α 12*M I$$\n",
    "<br>\n",
    ", where L is the average length of the day, M the number of days in the month, T a the average daily temperature, I the heat index and α a function based on the heat index (Thornthwaite, 1948). Potential evaporation ( P E ) is calculated in mm day-​ 1​. Lines 83-86 uses the sunrise equation in order to calculate the average length of the day (Allen et al., 1998). To calculate the average temperature per month line 90 is used. Lines 90-93 calculates the number of days of the month based on the year and month number. The heat index function, which depends on the 12 monthly mean temperature is calculated to daily data in lines 95-101. Finally, the alpha function and Thornthwaite evaporation can be calculated with lines 109-110 and 112-119 respectively. If daily average temperature is higher than 26 a different equation is used (line 114) and if temperature is below zero evaporation is assumed to be close to zero (line 116).\n",
    "The storage calculation function takes precipitation, Thornthwaite evaporation and descriptions of the WHS as input. Potential daily water harvesting is assigned with usage in line 126. Evaporation is assigned zero for cistern storage and Thornthwaite values for open pond (for example you can also add the Penman-Monteith evaporation in a function and assign them here). A ValueError will be raised if WHS system is neither cistern nor open pond (see line 130 and 132). The storage calculation is done within a loop through the lists of evaporation and precipitation values (line 140). Evaporation and precipitation is divided by 1000 to transform mm day-​ 1 to m day-​ 1​. Direct precipitation is only assigned if WHS is open pond (lines 144-146). Runoff only takes place if the assigned threshold is met and calculated by multiplying the catchment size with precipitation and the runoff coefficient. Evaporation is multiplied with the inlet of the WHS and subtracted of the storage. The list E_list keeps track of the amount of storage water evaporated during the period of the model run. If potential evaporation is higher than the amount of water in WHS, actual evaporation will be lower than potential, hence line 152-158. To check whether the storage will not succeed capacity or be a negative value, and to calculate the amount of water that can be harvested the lines 160-171 of code has been implemented. Water storage calculations are done in the following order: inflow through runoff and direct precipitation, outgoing flux of evaporation and, subsequently, extraction for household use."
   ]
  },
  {
   "cell_type": "code",
   "execution_count": 10,
   "metadata": {},
   "outputs": [],
   "source": [
    "# creates an object to store variables in\n",
    "class Storage_output(object):\n",
    "\n",
    "    def __init__(self, storage, usage, evaporation):\n",
    "        self.storage = storage\n",
    "        self.usage = usage\n",
    "        self.evaporation = evaporation"
   ]
  },
  {
   "cell_type": "code",
   "execution_count": 11,
   "metadata": {},
   "outputs": [],
   "source": [
    "def evap_calc(data):\n",
    "    # calculate photoperiod\n",
    "    omega = lat * math.pi / 180\n",
    "    data['Delta'] = 0.409 * np.sin(2 * data['Day of year'] * np.pi / 365 - 1.39)\n",
    "    data['ws'] = np.arccos(-np.tan(omega) * np.tan(data['Delta']))\n",
    "    data['daylight'] = 24 * data['ws'] / np.pi\n",
    "    data = data.drop(['Delta', 'ws'], axis=1)\n",
    "\n",
    "    # average temperature data per month\n",
    "    Month_data = data['Temperature'].resample(\"M\").mean().to_frame()\n",
    "\n",
    "    # assign number of days in a month for the specific months in data        \n",
    "    data['days per month'] = data.index.to_series().dt.daysinmonth\n",
    "\n",
    "    # calculate heat index per year \n",
    "    Month_data['Heat index'] = pow((0.2 * Month_data['Temperature']), 1.514)\n",
    "    Year_data = Month_data['Heat index'].resample(\"A\").sum().to_frame()\n",
    "    \n",
    "    # convert monthly HI to daily\n",
    "    Year_data['Year'] = Year_data.index.to_series().dt.year\n",
    "    data = data.merge(Year_data, how='left', on='Year')\n",
    "\n",
    "    TW = []\n",
    "    for i, j, k, l in zip(data['Temperature'].values.flatten(),\n",
    "                          data['daylight'].values.flatten(),\n",
    "                          data['days per month'].values.flatten(),\n",
    "                          data['Heat index'].values.flatten()):\n",
    "        # calculate function depended on heat index\n",
    "        alpha = ((6.75 * pow(10, -7)) * pow(l, 3) - (7.71 * pow(10, -5)) *\n",
    "                 pow(l, 2) + (1.7912 * pow(10, -2)) * l + 0.49239)\n",
    "\n",
    "        # check if temperature is below zero or higher than 26 •C\n",
    "        if i > 26:\n",
    "            z = (j / (12 * k)) * (-415.85 + 32.24 * i - pow((0.43 * i), 2))\n",
    "        elif i < 0:\n",
    "            z = 0.0001\n",
    "        else:\n",
    "            z = 16 * (j / (12 * k)) * pow((10 * i / l), alpha)\n",
    "        TW.append(z)\n",
    "    \n",
    "    return TW"
   ]
  },
  {
   "cell_type": "markdown",
   "metadata": {},
   "source": [
    "Below there is a fucntion which calculates the storage amount based on the precipitation, evaporation and water use  <br> check"
   ]
  },
  {
   "cell_type": "code",
   "execution_count": 13,
   "metadata": {},
   "outputs": [],
   "source": [
    "def storage_calc(prec, TW, WHS, cap, catchment, depth, inlet, storage):\n",
    "    \"\"\"\n",
    "    \n",
    "    \"\"\"\n",
    "    # calculate potential usage of WHS in m^3\n",
    "    potential_usage = (HH * num) * (demand / 7) / 1000\n",
    "\n",
    "    # assign evaporation with Thornthwaite equation\n",
    "    evap = []\n",
    "    if WHS == 'cistern':\n",
    "        evap = [0 * i for i in TW]\n",
    "    elif WHS == 'open pond':\n",
    "        evap = TW\n",
    "    else:\n",
    "        raise ValueError('WHS should be either \"cistern\" or \"open pond\"')\n",
    "\n",
    "    E_list = []\n",
    "    store_list, usage_list = [], []\n",
    "    # calculate storage and usage of WHS\n",
    "    for i, j in zip(evap, prec):\n",
    "        E = i / 1000\n",
    "        pr = j / 1000\n",
    "\n",
    "        # channel precipitation for open pond\n",
    "        if WHS == 'open pond':\n",
    "            storage += inlet * pr\n",
    "\n",
    "        # runoff\n",
    "        if pr > threshold:\n",
    "            storage += catchment * pr * ROC\n",
    "\n",
    "        # evaporation\n",
    "        E = E * inlet\n",
    "        if storage < E:\n",
    "            E_list.append(storage)\n",
    "        else:\n",
    "            E_list.append(E)\n",
    "        storage -= E\n",
    "\n",
    "        # check capacity, depletion and usage\n",
    "        if storage > cap:\n",
    "            storage = cap - potential_usage\n",
    "            extract = potential_usage\n",
    "        elif storage < 0:\n",
    "            storage, extract = 0, 0\n",
    "        elif storage < potential_usage:\n",
    "            extract = storage\n",
    "            storage = 0\n",
    "        else:\n",
    "            storage -= potential_usage\n",
    "            extract = potential_usage\n",
    "\n",
    "        store_list.append(storage), usage_list.append(extract)\n",
    "\n",
    "    output = Storage_output(store_list, usage_list, E_list)\n",
    "\n",
    "    return output"
   ]
  },
  {
   "cell_type": "markdown",
   "metadata": {},
   "source": [
    "Part III: Calculations\n",
    "======================\n",
    "\n",
    "First we are going to run the functions to et the data. With the evap calc function, we calculate the evaporation, with ...\n",
    "<br>\n",
    "\n",
    "In Part III functions are called and data is passed to the functions. Because the storage function returns an ‘object’ (called in line 175 and assigned in storage_output class in lines 72-78); storage, usage and evaporation can easily be called with for example output_op.usage for open pond usage. Calculations are done to check, for example, the evaporative fracture by dividing the total evaporation by the\n",
    "  2\n",
    "capacity of the WHS. The effectiveness of the WHS can be calculated by dividing the total water demand over the analyzed period into the actual extracted water from the reservoir for household use. Results of calculations can be printed in the Python shell with the print() function. Next, data about the run is passed in lists and stored in Pandas dataframe (lines 235-264)."
   ]
  },
  {
   "cell_type": "code",
   "execution_count": 15,
   "metadata": {},
   "outputs": [],
   "source": [
    "evap_TW = evap_calc(data)\n",
    "data['TW'] = evap_TW\n",
    "prec_data = data['Precipitation'].values.flatten()\n",
    "\n",
    "output_cis = storage_calc(prec_data, evap_TW, \"cistern\", cap_cis,\n",
    "                          catchment_cis, depth_cis, inlet_cis, storage_cis)\n",
    "output_op = storage_calc(prec_data, evap_TW, \"open pond\", cap_op, catchment_op,\n",
    "                         depth_op, inlet_op, storage_op)"
   ]
  },
  {
   "cell_type": "code",
   "execution_count": 18,
   "metadata": {},
   "outputs": [
    {
     "data": {
      "text/plain": [
       "0.7114114285714286"
      ]
     },
     "execution_count": 18,
     "metadata": {},
     "output_type": "execute_result"
    }
   ],
   "source": [
    "# calculate usage\n",
    "potential_usage = (HH * num) * (demand / 7) / 1000\n",
    "potential_usage"
   ]
  },
  {
   "cell_type": "code",
   "execution_count": 20,
   "metadata": {},
   "outputs": [
    {
     "data": {
      "text/plain": [
       "1183.9866254462047"
      ]
     },
     "execution_count": 20,
     "metadata": {},
     "output_type": "execute_result"
    }
   ],
   "source": [
    "# total evaporation and evaporative fracture\n",
    "total_evap_op = np.sum(output_op.evaporation)\n",
    "print('Total evaporation of open pond: %s' % total_evap_op)"
   ]
  },
  {
   "cell_type": "code",
   "execution_count": 21,
   "metadata": {},
   "outputs": [
    {
     "data": {
      "text/plain": [
       "23.679732508924094"
      ]
     },
     "execution_count": 21,
     "metadata": {},
     "output_type": "execute_result"
    }
   ],
   "source": [
    "EF_op = total_evap_op / cap_op\n",
    "print('Potential evaporative fracture of open pond: %s' % EF_op)"
   ]
  },
  {
   "cell_type": "markdown",
   "metadata": {},
   "source": [
    "# Calculate yearly extracted water and effectiveness\n",
    "Add script to calculate the average yearly extracted water and effectiveness. (Hint: use the\n",
    "list of output_op.usage for open pond usage)"
   ]
  },
  {
   "cell_type": "code",
   "execution_count": 24,
   "metadata": {},
   "outputs": [
    {
     "name": "stdout",
     "output_type": "stream",
     "text": [
      "text 103.14771199056786\n"
     ]
    }
   ],
   "source": [
    "# write here your code\n",
    "YE_op = np.sum(output_op.usage) / len(output_op.usage) * 365\n",
    "YE_cis = np.sum(output_cis.usage) / len(output_cis.usage) * 365\n",
    "effect_op = np.sum(output_op.usage) / (len(output_op.usage) * potential_usage)\n",
    "effect_cis = np.sum(output_cis.usage) / (len(output_cis.usage) * potential_usage)\n",
    "print('\\nYearly extracted water of open pond: %s' % YE_op)\n",
    "print('Yearly extracted water of cistern: %s' % YE_cis)\n",
    "print('\\nEffectiveness of open pond: %s' % effect_op)\n",
    "print('Effectiveness of cistern: %s' % effect_cis)"
   ]
  },
  {
   "cell_type": "markdown",
   "metadata": {},
   "source": [
    "# Calculate costs of construction and costs per qubic meter harvested water\n",
    "The investment costs per m3​ of storage capacity for an open pond is $20.47 dollar, and for a\n",
    "cistern $32.28. Calculate in the script the total investment costs and costs per m3​ of\n",
    "extracted water."
   ]
  },
  {
   "cell_type": "code",
   "execution_count": 25,
   "metadata": {},
   "outputs": [
    {
     "name": "stdout",
     "output_type": "stream",
     "text": [
      "text 103.14771199056786\n"
     ]
    }
   ],
   "source": [
    "# write here your code\n",
    "costs_op = 20.47 * cap_op\n",
    "costs_cis = 32.28 * cap_cis\n",
    "costs_water_op = costs_op / np.sum(output_op.usage)\n",
    "costs_water_cis = costs_cis / np.sum(output_cis.usage)\n",
    "print('\\nInvestment costs for open pond: %s' % costs_op)\n",
    "print('Investment costs for cistern: %s' % costs_cis)\n",
    "print('\\nCost of water per qubic meter for open pond: %s' % costs_water_op)\n",
    "print('Cost of water per qubic meter for cistern: %s' % costs_water_cis)"
   ]
  },
  {
   "cell_type": "markdown",
   "metadata": {},
   "source": [
    "# Calculate the numnber of dry days for each WHS\n",
    "\n",
    "Line 195 calculates the daily water use of the households. Calculate the total number of\n",
    "days the reservoir contains too little water to meet this water use. In other words we need to iterate over a list and count if condition is met. (Hint: use np.where function or make use of a loop)"
   ]
  },
  {
   "cell_type": "code",
   "execution_count": 26,
   "metadata": {},
   "outputs": [],
   "source": [
    "# write here your code\n",
    "\n",
    "# dry days open pond\n",
    "dry_days_op = 0\n",
    "for i in output_op.usage:\n",
    "    if i < potential_usage:\n",
    "        dry_days_op += 1\n",
    "\n",
    "# dry days cistern\n",
    "dry_days_cis = 0\n",
    "for i in output_cis.usage:\n",
    "    if i < potential_usage:\n",
    "        dry_days_cis += 1\n",
    "        \n",
    "print('\\nCount of days of depleted water storage open pond: %s' % dry_days_op)\n",
    "print('Count of days of depleted water storage cistern: %s' % dry_days_cis)"
   ]
  },
  {
   "cell_type": "markdown",
   "metadata": {},
   "source": [
    "Part IV: Saving data to csv\n",
    "===========================\n",
    "Output is written to a csv file. Lines 277-323 consists of lines of codes in which precipitation is plotted with the water storage of the WHS. Plotting data can be done by uncommenting line 326 (remove #). Loading might take a while as there are more than 10.000 data points.\n",
    "<br>\n",
    "The goal is to make a graph with the investment per m3​ of extracted water for your location in relation to the percentage of the year water is available in the system on average for the whole analyzed period. This can either be done by adding script to the program (adding more instances of storage_calc() with different input values), or by using the output files in, for example, Excel. At the bottom of this document several functions are listed which you can use to add to the program."
   ]
  },
  {
   "cell_type": "code",
   "execution_count": 28,
   "metadata": {},
   "outputs": [
    {
     "ename": "ModuleNotFoundError",
     "evalue": "No module named 'openpyxl'",
     "output_type": "error",
     "traceback": [
      "\u001b[0;31m---------------------------------------------------------------------------\u001b[0m",
      "\u001b[0;31mModuleNotFoundError\u001b[0m                       Traceback (most recent call last)",
      "\u001b[0;32m<ipython-input-28-4a05f843eb45>\u001b[0m in \u001b[0;36m<module>\u001b[0;34m\u001b[0m\n\u001b[1;32m     31\u001b[0m \u001b[0;34m\u001b[0m\u001b[0m\n\u001b[1;32m     32\u001b[0m \u001b[0moutput_data\u001b[0m\u001b[0;34m.\u001b[0m\u001b[0mto_csv\u001b[0m\u001b[0;34m(\u001b[0m\u001b[0moutput_file\u001b[0m\u001b[0;34m,\u001b[0m \u001b[0mindex\u001b[0m\u001b[0;34m=\u001b[0m\u001b[0;32mFalse\u001b[0m\u001b[0;34m)\u001b[0m\u001b[0;34m\u001b[0m\u001b[0;34m\u001b[0m\u001b[0m\n\u001b[0;32m---> 33\u001b[0;31m \u001b[0mwriter\u001b[0m \u001b[0;34m=\u001b[0m \u001b[0mpd\u001b[0m\u001b[0;34m.\u001b[0m\u001b[0mExcelWriter\u001b[0m\u001b[0;34m(\u001b[0m\u001b[0moutput_file\u001b[0m\u001b[0;34m.\u001b[0m\u001b[0mreplace\u001b[0m\u001b[0;34m(\u001b[0m\u001b[0;34m'csv'\u001b[0m\u001b[0;34m,\u001b[0m \u001b[0;34m'xlsx'\u001b[0m\u001b[0;34m)\u001b[0m\u001b[0;34m)\u001b[0m\u001b[0;34m\u001b[0m\u001b[0;34m\u001b[0m\u001b[0m\n\u001b[0m\u001b[1;32m     34\u001b[0m \u001b[0moutput_data\u001b[0m\u001b[0;34m.\u001b[0m\u001b[0mto_excel\u001b[0m\u001b[0;34m(\u001b[0m\u001b[0mwriter\u001b[0m\u001b[0;34m,\u001b[0m \u001b[0;34m'Sheet1'\u001b[0m\u001b[0;34m)\u001b[0m\u001b[0;34m\u001b[0m\u001b[0;34m\u001b[0m\u001b[0m\n\u001b[1;32m     35\u001b[0m \u001b[0mwriter\u001b[0m\u001b[0;34m.\u001b[0m\u001b[0msave\u001b[0m\u001b[0;34m(\u001b[0m\u001b[0;34m)\u001b[0m\u001b[0;34m\u001b[0m\u001b[0;34m\u001b[0m\u001b[0m\n",
      "\u001b[0;32m~/anaconda3/envs/river/lib/python3.7/site-packages/pandas/io/excel.py\u001b[0m in \u001b[0;36m__init__\u001b[0;34m(self, path, engine, mode, **engine_kwargs)\u001b[0m\n\u001b[1;32m   1202\u001b[0m     \u001b[0;32mdef\u001b[0m \u001b[0m__init__\u001b[0m\u001b[0;34m(\u001b[0m\u001b[0mself\u001b[0m\u001b[0;34m,\u001b[0m \u001b[0mpath\u001b[0m\u001b[0;34m,\u001b[0m \u001b[0mengine\u001b[0m\u001b[0;34m=\u001b[0m\u001b[0;32mNone\u001b[0m\u001b[0;34m,\u001b[0m \u001b[0mmode\u001b[0m\u001b[0;34m=\u001b[0m\u001b[0;34m'w'\u001b[0m\u001b[0;34m,\u001b[0m \u001b[0;34m**\u001b[0m\u001b[0mengine_kwargs\u001b[0m\u001b[0;34m)\u001b[0m\u001b[0;34m:\u001b[0m\u001b[0;34m\u001b[0m\u001b[0;34m\u001b[0m\u001b[0m\n\u001b[1;32m   1203\u001b[0m         \u001b[0;31m# Use the openpyxl module as the Excel writer.\u001b[0m\u001b[0;34m\u001b[0m\u001b[0;34m\u001b[0m\u001b[0;34m\u001b[0m\u001b[0m\n\u001b[0;32m-> 1204\u001b[0;31m         \u001b[0;32mfrom\u001b[0m \u001b[0mopenpyxl\u001b[0m\u001b[0;34m.\u001b[0m\u001b[0mworkbook\u001b[0m \u001b[0;32mimport\u001b[0m \u001b[0mWorkbook\u001b[0m\u001b[0;34m\u001b[0m\u001b[0;34m\u001b[0m\u001b[0m\n\u001b[0m\u001b[1;32m   1205\u001b[0m \u001b[0;34m\u001b[0m\u001b[0m\n\u001b[1;32m   1206\u001b[0m         \u001b[0msuper\u001b[0m\u001b[0;34m(\u001b[0m\u001b[0m_OpenpyxlWriter\u001b[0m\u001b[0;34m,\u001b[0m \u001b[0mself\u001b[0m\u001b[0;34m)\u001b[0m\u001b[0;34m.\u001b[0m\u001b[0m__init__\u001b[0m\u001b[0;34m(\u001b[0m\u001b[0mpath\u001b[0m\u001b[0;34m,\u001b[0m \u001b[0mmode\u001b[0m\u001b[0;34m=\u001b[0m\u001b[0mmode\u001b[0m\u001b[0;34m,\u001b[0m \u001b[0;34m**\u001b[0m\u001b[0mengine_kwargs\u001b[0m\u001b[0;34m)\u001b[0m\u001b[0;34m\u001b[0m\u001b[0;34m\u001b[0m\u001b[0m\n",
      "\u001b[0;31mModuleNotFoundError\u001b[0m: No module named 'openpyxl'"
     ]
    }
   ],
   "source": [
    "# Make empty lists and store information of the model run and global variables\n",
    "GV_meta = [None] * len(Time)\n",
    "GV_data = list(GV_meta)\n",
    "\n",
    "GV_meta[0:24] = [\"Cap cis\", \"Cap op\", \"Catchment cis\", \"Catchment op\",\n",
    "                 \"Depth cis\", \"Depth op\", \"Inlet cis\", \"Inlet op\",\n",
    "                 \"Initial storage cis\", \"Initial storage op\",\n",
    "                 \"Effectiveness cis\", \"Effectiveness op\", \"EF op\", \"YE cis\",\n",
    "                 \"YE op\", \"Dry days cis\", \"Dry days op\", \"Threshold\", \"ROC\",\n",
    "                 \"People in households\", \"Demand\", \"Number of households\",\n",
    "                 \"Usage\", \"Latitude\"]\n",
    "\n",
    "GV_data[0:24] = [cap_cis, cap_op, catchment_cis, catchment_op, depth_cis,\n",
    "                 depth_op, inlet_cis, inlet_op, storage_cis, storage_op,\n",
    "                 effect_cis, effect_op, EF_op, YE_cis, YE_op, dry_days_cis,\n",
    "                 dry_days_op, threshold, ROC, HH, demand, num, potential_usage, lat]\n",
    "\n",
    "# make pandas data frame with headers and save data frame to csv\n",
    "headers = [\"Storage cistern [m3]\", \"Storage open pond [m3]\",\n",
    "           \"Extracted water cistern [m3]\", \"Extracted water open pond [m3]\",\n",
    "           \"GV meta\", \"GV data\"]\n",
    "\n",
    "\n",
    "output_data = pd.concat([data, pd.DataFrame(np.column_stack([\n",
    "                                                output_op.storage,\n",
    "                                                output_cis.storage,\n",
    "                                                output_op.usage,\n",
    "                                                output_cis.usage, GV_meta,\n",
    "                                                GV_data]), \n",
    "                        index=data.index, columns=headers)], axis=1)\n",
    "\n",
    "output_data.to_csv(output_file, index=False)\n",
    "writer = pd.ExcelWriter(output_file.replace('csv', 'xlsx'))\n",
    "output_data.to_excel(writer, 'Sheet1')\n",
    "writer.save()"
   ]
  },
  {
   "cell_type": "markdown",
   "metadata": {},
   "source": [
    "Part V: Plot data\n",
    "================="
   ]
  },
  {
   "cell_type": "code",
   "execution_count": 31,
   "metadata": {},
   "outputs": [],
   "source": [
    "def WHSplot(prec, st1, st2, x):\n",
    "    width = 0.8\n",
    "    fig = plt.figure()\n",
    "\n",
    "    ax1 = fig.add_subplot(121)\n",
    "    plt.xticks(rotation=45)\n",
    "\n",
    "    ax1.set_title('Cistern storage', fontsize=18)\n",
    "    ax1.bar(x, prec, width, label='Precipitation')\n",
    "    ax1.set_ylabel('Rainfall [$mm$]', fontsize=10)\n",
    "    # ax1.set_ylim(0, 100)\n",
    "    ax1.legend(loc='upper left', shadow=True)\n",
    "    handles, labels = ax1.get_legend_handles_labels()\n",
    "    ax1.legend(handles, labels, loc='upper left', fontsize=8)\n",
    "    ax1.tick_params(axis='both', labelsize=10)\n",
    "\n",
    "    ax2 = ax1.twinx()\n",
    "    ax2.plot(x, st1, 'y', label='Water stored')\n",
    "    ax2.set_ylabel('Storage [$m^3$]', fontsize=10)\n",
    "    ax2.set_ylim(0, cap_cis)\n",
    "    ax2.legend(loc='upper left', shadow=True)\n",
    "    handles, labels = ax2.get_legend_handles_labels()\n",
    "    ax2.legend(handles, labels, loc='upper right', fontsize=8)\n",
    "    ax2.tick_params(axis='both', labelsize=10)\n",
    "\n",
    "    ax3 = fig.add_subplot(122)\n",
    "    plt.xticks(rotation=45)\n",
    "    ax3.set_title('Open pond storage', fontsize=18)\n",
    "    ax3.bar(x, prec, width, label='Precipitation')\n",
    "    ax3.set_ylabel('Rainfall [$mm$]', fontsize=10)\n",
    "    # ax3.set_ylim(0, 100)\n",
    "    ax3.legend(loc='upper left', shadow=True)\n",
    "    handles, labels = ax3.get_legend_handles_labels()\n",
    "    ax3.legend(handles, labels, loc='upper left', fontsize=8)\n",
    "    ax3.tick_params(axis='both', labelsize=10)\n",
    "\n",
    "    ax4 = ax3.twinx()\n",
    "    ax4.plot(x, st2, 'y-', label='Water stored')\n",
    "    ax4.set_ylabel('Storage [$m^3$]', fontsize=10)\n",
    "    ax4.set_ylim(0, cap_op)\n",
    "    ax4.legend(loc='upper left', shadow=True)\n",
    "    handles, labels = ax4.get_legend_handles_labels()\n",
    "    ax4.legend(handles, labels, loc='upper right', fontsize=8)\n",
    "    ax4.tick_params(axis='both', labelsize=10)\n",
    "\n",
    "    # fig.savefig(curdir+os.sep+\"WHS.png\", bbox_inches='tight', dpi=300)\n",
    "    plt.show()"
   ]
  },
  {
   "cell_type": "code",
   "execution_count": 33,
   "metadata": {},
   "outputs": [
    {
     "name": "stderr",
     "output_type": "stream",
     "text": [
      "/Users/timothy/anaconda3/envs/river/lib/python3.7/site-packages/pandas/plotting/_converter.py:129: FutureWarning: Using an implicitly registered datetime converter for a matplotlib plotting method. The converter was registered by pandas on import. Future versions of pandas will require you to explicitly register matplotlib converters.\n",
      "\n",
      "To register the converters:\n",
      "\t>>> from pandas.plotting import register_matplotlib_converters\n",
      "\t>>> register_matplotlib_converters()\n",
      "  warnings.warn(msg, FutureWarning)\n"
     ]
    },
    {
     "data": {
      "image/png": "[encoded data removed]",
      "text/plain": [
       "<Figure size 432x288 with 4 Axes>"
      ]
     },
     "metadata": {
      "needs_background": "light"
     },
     "output_type": "display_data"
    }
   ],
   "source": [
    "WHSplot(prec_data, output_cis.storage, output_op.storage, Time)"
   ]
  },
  {
   "cell_type": "markdown",
   "metadata": {},
   "source": [
    "# Automating the script"
   ]
  },
  {
   "cell_type": "markdown",
   "metadata": {},
   "source": [
    "Generate the following information for at least 5 model runs with different values for the capacity of the reservoir (both pond and cistern): The total costs of investment and maintenance per m3​ of extracted water and the percentage of the days of the period the system contains water. Plot these results in a graph for each WHS on the y- and x-axis respectively. If you want to do this in Python you can use, duplicate and fill in lines after assignment 6 in the script."
   ]
  },
  {
   "cell_type": "code",
   "execution_count": 34,
   "metadata": {},
   "outputs": [],
   "source": [
    "# Make for the climate scenario the script available with completed run calculations and plots\n",
    "run1_cis = storage_calc(prec_data, evap_TW, \"cistern\", 25, 300, 2, 150, 0)\n",
    "run2_cis = storage_calc(prec_data, evap_TW, \"cistern\", 50, 300, 2, 150, 0)\n",
    "run3_cis = storage_calc(prec_data, evap_TW, \"cistern\", 75, 300, 2, 150, 0)\n",
    "run4_cis = storage_calc(prec_data, evap_TW, \"cistern\", 100, 300, 2, 150, 0)\n",
    "run5_cis = storage_calc(prec_data, evap_TW, \"cistern\", 150, 300, 2, 150, 0)\n",
    "\n",
    "effect1_cis = np.sum(run1_cis.usage) / (len(run1_cis.usage) * potential_usage)\n",
    "effect2_cis = np.sum(run2_cis.usage) / (len(run2_cis.usage) * potential_usage)\n",
    "effect3_cis = np.sum(run3_cis.usage) / (len(run3_cis.usage) * potential_usage)\n",
    "effect4_cis = np.sum(run4_cis.usage) / (len(run4_cis.usage) * potential_usage)\n",
    "effect5_cis = np.sum(run5_cis.usage) / (len(run5_cis.usage) * potential_usage)\n",
    "\n",
    "costs1_cis = 32.28 * 25 / np.sum(run1_cis.usage)\n",
    "costs2_cis = 32.28 * 50 / np.sum(run2_cis.usage)\n",
    "costs3_cis = 32.28 * 75 / np.sum(run3_cis.usage)\n",
    "costs4_cis = 32.28 * 100 / np.sum(run4_cis.usage)\n",
    "costs5_cis = 32.28 * 150 / np.sum(run5_cis.usage)\n",
    "\n",
    "effectiveness_cis_list = [effect1_cis, effect2_cis, effect3_cis, effect4_cis,\n",
    "                          effect5_cis]\n",
    "costs_cis_list = [costs1_cis, costs2_cis, costs3_cis, costs4_cis, costs5_cis]\n",
    "\n",
    "run1_op = storage_calc(prec_data, evap_TW, \"open pond\", 25, 300, 2, 150, 0)\n",
    "run2_op = storage_calc(prec_data, evap_TW, \"open pond\", 50, 300, 2, 150, 0)\n",
    "run3_op = storage_calc(prec_data, evap_TW, \"open pond\", 75, 300, 2, 150, 0)\n",
    "run4_op = storage_calc(prec_data, evap_TW, \"open pond\", 100, 300, 2, 150, 0)\n",
    "run5_op = storage_calc(prec_data, evap_TW, \"open pond\", 150, 300, 2, 150, 0)\n",
    "\n",
    "effect1_op = np.sum(run1_op.usage) / (len(run1_op.usage) * potential_usage)\n",
    "effect2_op = np.sum(run2_op.usage) / (len(run2_op.usage) * potential_usage)\n",
    "effect3_op = np.sum(run3_op.usage) / (len(run3_op.usage) * potential_usage)\n",
    "effect4_op = np.sum(run4_op.usage) / (len(run4_op.usage) * potential_usage)\n",
    "effect5_op = np.sum(run5_op.usage) / (len(run5_op.usage) * potential_usage)\n",
    "\n",
    "costs1_op = 32.28 * 25 / np.sum(run1_op.usage)\n",
    "costs2_op = 32.28 * 50 / np.sum(run2_op.usage)\n",
    "costs3_op = 32.28 * 75 / np.sum(run3_op.usage)\n",
    "costs4_op = 32.28 * 100 / np.sum(run4_op.usage)\n",
    "costs5_op = 32.28 * 150 / np.sum(run5_op.usage)\n",
    "\n",
    "effectiveness_op_list = [effect1_op, effect2_op, effect3_op, effect4_op,\n",
    "                          effect5_op]\n",
    "costs_op_list = [costs1_op, costs2_op, costs3_op, costs4_op, costs5_op]"
   ]
  },
  {
   "cell_type": "code",
   "execution_count": 35,
   "metadata": {},
   "outputs": [
    {
     "name": "stdout",
     "output_type": "stream",
     "text": [
      "\n",
      "Effectivness cistern run 1: 0.38182417596375257\n",
      "Effectivness cistern run 2: 0.4441668704449945\n",
      "Effectivness cistern run 3: 0.48157366366697585\n",
      "Effectivness cistern run 4: 0.5025181398757538\n",
      "Effectivness cistern run 5: 0.5157915168718975\n",
      "\n",
      "Costs/$m^3$ cistern run 1: 0.2711177663136446\n",
      "Costs/$m^3$ cistern run 2: 0.466128046011754\n",
      "Costs/$m^3$ cistern run 3: 0.644881513600135\n",
      "Costs/$m^3$ cistern run 4: 0.8240046238922675\n",
      "Costs/$m^3$ cistern run 5: 1.2041995379022574\n",
      "\n",
      "Effectivness open pond run 1: 0.2815099796231681\n",
      "Effectivness open pond run 2: 0.3157590832941718\n",
      "Effectivness open pond run 3: 0.3367424919826039\n",
      "Effectivness open pond run 4: 0.3525066072775501\n",
      "Effectivness open pond run 5: 0.3723884090870947\n",
      "\n",
      "Costs/$m^3$ open pond run 1: 0.36772876702421886\n",
      "Costs/$m^3$ open pond run 2: 0.6556854462070913\n",
      "Costs/$m^3$ open pond run 3: 0.9222416550613551\n",
      "Costs/$m^3$ open pond run 4: 1.1746652751996045\n",
      "Costs/$m^3$ open pond run 5: 1.6679249168729524\n"
     ]
    }
   ],
   "source": [
    "print('\\nEffectivness cistern run 1: %s' % effect1_cis)\n",
    "print('Effectivness cistern run 2: %s' % effect2_cis)\n",
    "print('Effectivness cistern run 3: %s' % effect3_cis)\n",
    "print('Effectivness cistern run 4: %s' % effect4_cis)\n",
    "print('Effectivness cistern run 5: %s\\n' % effect5_cis)\n",
    "\n",
    "print('Costs/$m^3$ cistern run 1: %s' % costs1_cis)\n",
    "print('Costs/$m^3$ cistern run 2: %s' % costs2_cis)\n",
    "print('Costs/$m^3$ cistern run 3: %s' % costs3_cis)\n",
    "print('Costs/$m^3$ cistern run 4: %s' % costs4_cis)\n",
    "print('Costs/$m^3$ cistern run 5: %s\\n' % costs5_cis)\n",
    "\n",
    "print('Effectivness open pond run 1: %s' % effect1_op)\n",
    "print('Effectivness open pond run 2: %s' % effect2_op)\n",
    "print('Effectivness open pond run 3: %s' % effect3_op)\n",
    "print('Effectivness open pond run 4: %s' % effect4_op)\n",
    "print('Effectivness open pond run 5: %s\\n' % effect5_op)\n",
    "\n",
    "print('Costs/$m^3$ open pond run 1: %s' % costs1_op)\n",
    "print('Costs/$m^3$ open pond run 2: %s' % costs2_op)\n",
    "print('Costs/$m^3$ open pond run 3: %s' % costs3_op)\n",
    "print('Costs/$m^3$ open pond run 4: %s' % costs4_op)\n",
    "print('Costs/$m^3$ open pond run 5: %s' % costs5_op)"
   ]
  },
  {
   "cell_type": "code",
   "execution_count": 36,
   "metadata": {},
   "outputs": [],
   "source": [
    "def assignment6plot(x, y, WHS):\n",
    "    plt.scatter(x, y)\n",
    "    plt.xlabel('Effectiveness')\n",
    "    plt.ylabel('Costs [$m^3$]')\n",
    "    plt.title(WHS)\n",
    "    plt.show()"
   ]
  },
  {
   "cell_type": "code",
   "execution_count": 37,
   "metadata": {},
   "outputs": [
    {
     "data": {
      "image/png": "[encoded data removed]",
      "text/plain": [
       "<Figure size 432x288 with 1 Axes>"
      ]
     },
     "metadata": {
      "needs_background": "light"
     },
     "output_type": "display_data"
    }
   ],
   "source": [
    "assignment6plot(effectiveness_cis_list, costs_cis_list, \"Cistern\")"
   ]
  },
  {
   "cell_type": "code",
   "execution_count": 38,
   "metadata": {},
   "outputs": [
    {
     "data": {
      "image/png": "[encoded data removed]",
      "text/plain": [
       "<Figure size 432x288 with 1 Axes>"
      ]
     },
     "metadata": {
      "needs_background": "light"
     },
     "output_type": "display_data"
    }
   ],
   "source": [
    "assignment6plot(effectiveness_op_list, costs_op_list, \"open pond\")"
   ]
  },
  {
   "cell_type": "code",
   "execution_count": null,
   "metadata": {},
   "outputs": [],
   "source": []
  }
 ],
 "metadata": {
  "kernelspec": {
   "display_name": "Python 3",
   "language": "python",
   "name": "python3"
  },
  "language_info": {
   "codemirror_mode": {
    "name": "ipython",
    "version": 3
   },
   "file_extension": ".py",
   "mimetype": "text/x-python",
   "name": "python",
   "nbconvert_exporter": "python",
   "pygments_lexer": "ipython3",
   "version": "3.7.3"
  }
 },
 "nbformat": 4,
 "nbformat_minor": 2
}
